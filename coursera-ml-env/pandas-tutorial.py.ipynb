{
 "cells": [
  {
   "cell_type": "code",
   "execution_count": 1,
   "metadata": {},
   "outputs": [
    {
     "name": "stdout",
     "output_type": "stream",
     "text": [
      "             Survived  Pclass  \\\n",
      "PassengerId                     \n",
      "1                   0       3   \n",
      "2                   1       1   \n",
      "3                   1       3   \n",
      "4                   1       1   \n",
      "5                   0       3   \n",
      "6                   0       3   \n",
      "7                   0       1   \n",
      "8                   0       3   \n",
      "9                   1       3   \n",
      "10                  1       2   \n",
      "11                  1       3   \n",
      "12                  1       1   \n",
      "13                  0       3   \n",
      "14                  0       3   \n",
      "15                  0       3   \n",
      "16                  1       2   \n",
      "17                  0       3   \n",
      "18                  1       2   \n",
      "19                  0       3   \n",
      "20                  1       3   \n",
      "21                  0       2   \n",
      "22                  1       2   \n",
      "23                  1       3   \n",
      "24                  1       1   \n",
      "25                  0       3   \n",
      "26                  1       3   \n",
      "27                  0       3   \n",
      "28                  0       1   \n",
      "29                  1       3   \n",
      "30                  0       3   \n",
      "...               ...     ...   \n",
      "862                 0       2   \n",
      "863                 1       1   \n",
      "864                 0       3   \n",
      "865                 0       2   \n",
      "866                 1       2   \n",
      "867                 1       2   \n",
      "868                 0       1   \n",
      "869                 0       3   \n",
      "870                 1       3   \n",
      "871                 0       3   \n",
      "872                 1       1   \n",
      "873                 0       1   \n",
      "874                 0       3   \n",
      "875                 1       2   \n",
      "876                 1       3   \n",
      "877                 0       3   \n",
      "878                 0       3   \n",
      "879                 0       3   \n",
      "880                 1       1   \n",
      "881                 1       2   \n",
      "882                 0       3   \n",
      "883                 0       3   \n",
      "884                 0       2   \n",
      "885                 0       3   \n",
      "886                 0       3   \n",
      "887                 0       2   \n",
      "888                 1       1   \n",
      "889                 0       3   \n",
      "890                 1       1   \n",
      "891                 0       3   \n",
      "\n",
      "                                                          Name     Sex   Age  \\\n",
      "PassengerId                                                                    \n",
      "1                                      Braund, Mr. Owen Harris    male  22.0   \n",
      "2            Cumings, Mrs. John Bradley (Florence Briggs Th...  female  38.0   \n",
      "3                                       Heikkinen, Miss. Laina  female  26.0   \n",
      "4                 Futrelle, Mrs. Jacques Heath (Lily May Peel)  female  35.0   \n",
      "5                                     Allen, Mr. William Henry    male  35.0   \n",
      "6                                             Moran, Mr. James    male   NaN   \n",
      "7                                      McCarthy, Mr. Timothy J    male  54.0   \n",
      "8                               Palsson, Master. Gosta Leonard    male   2.0   \n",
      "9            Johnson, Mrs. Oscar W (Elisabeth Vilhelmina Berg)  female  27.0   \n",
      "10                         Nasser, Mrs. Nicholas (Adele Achem)  female  14.0   \n",
      "11                             Sandstrom, Miss. Marguerite Rut  female   4.0   \n",
      "12                                    Bonnell, Miss. Elizabeth  female  58.0   \n",
      "13                              Saundercock, Mr. William Henry    male  20.0   \n",
      "14                                 Andersson, Mr. Anders Johan    male  39.0   \n",
      "15                        Vestrom, Miss. Hulda Amanda Adolfina  female  14.0   \n",
      "16                            Hewlett, Mrs. (Mary D Kingcome)   female  55.0   \n",
      "17                                        Rice, Master. Eugene    male   2.0   \n",
      "18                                Williams, Mr. Charles Eugene    male   NaN   \n",
      "19           Vander Planke, Mrs. Julius (Emelia Maria Vande...  female  31.0   \n",
      "20                                     Masselmani, Mrs. Fatima  female   NaN   \n",
      "21                                        Fynney, Mr. Joseph J    male  35.0   \n",
      "22                                       Beesley, Mr. Lawrence    male  34.0   \n",
      "23                                 McGowan, Miss. Anna \"Annie\"  female  15.0   \n",
      "24                                Sloper, Mr. William Thompson    male  28.0   \n",
      "25                               Palsson, Miss. Torborg Danira  female   8.0   \n",
      "26           Asplund, Mrs. Carl Oscar (Selma Augusta Emilia...  female  38.0   \n",
      "27                                     Emir, Mr. Farred Chehab    male   NaN   \n",
      "28                              Fortune, Mr. Charles Alexander    male  19.0   \n",
      "29                               O'Dwyer, Miss. Ellen \"Nellie\"  female   NaN   \n",
      "30                                         Todoroff, Mr. Lalio    male   NaN   \n",
      "...                                                        ...     ...   ...   \n",
      "862                                Giles, Mr. Frederick Edward    male  21.0   \n",
      "863          Swift, Mrs. Frederick Joel (Margaret Welles Ba...  female  48.0   \n",
      "864                          Sage, Miss. Dorothy Edith \"Dolly\"  female   NaN   \n",
      "865                                     Gill, Mr. John William    male  24.0   \n",
      "866                                   Bystrom, Mrs. (Karolina)  female  42.0   \n",
      "867                               Duran y More, Miss. Asuncion  female  27.0   \n",
      "868                       Roebling, Mr. Washington Augustus II    male  31.0   \n",
      "869                                van Melkebeke, Mr. Philemon    male   NaN   \n",
      "870                            Johnson, Master. Harold Theodor    male   4.0   \n",
      "871                                          Balkic, Mr. Cerin    male  26.0   \n",
      "872           Beckwith, Mrs. Richard Leonard (Sallie Monypeny)  female  47.0   \n",
      "873                                   Carlsson, Mr. Frans Olof    male  33.0   \n",
      "874                                Vander Cruyssen, Mr. Victor    male  47.0   \n",
      "875                      Abelson, Mrs. Samuel (Hannah Wizosky)  female  28.0   \n",
      "876                           Najib, Miss. Adele Kiamie \"Jane\"  female  15.0   \n",
      "877                              Gustafsson, Mr. Alfred Ossian    male  20.0   \n",
      "878                                       Petroff, Mr. Nedelio    male  19.0   \n",
      "879                                         Laleff, Mr. Kristo    male   NaN   \n",
      "880              Potter, Mrs. Thomas Jr (Lily Alexenia Wilson)  female  56.0   \n",
      "881               Shelley, Mrs. William (Imanita Parrish Hall)  female  25.0   \n",
      "882                                         Markun, Mr. Johann    male  33.0   \n",
      "883                               Dahlberg, Miss. Gerda Ulrika  female  22.0   \n",
      "884                              Banfield, Mr. Frederick James    male  28.0   \n",
      "885                                     Sutehall, Mr. Henry Jr    male  25.0   \n",
      "886                       Rice, Mrs. William (Margaret Norton)  female  39.0   \n",
      "887                                      Montvila, Rev. Juozas    male  27.0   \n",
      "888                               Graham, Miss. Margaret Edith  female  19.0   \n",
      "889                   Johnston, Miss. Catherine Helen \"Carrie\"  female   NaN   \n",
      "890                                      Behr, Mr. Karl Howell    male  26.0   \n",
      "891                                        Dooley, Mr. Patrick    male  32.0   \n",
      "\n",
      "             SibSp  Parch            Ticket      Fare        Cabin Embarked  \n",
      "PassengerId                                                                  \n",
      "1                1      0         A/5 21171    7.2500          NaN        S  \n",
      "2                1      0          PC 17599   71.2833          C85        C  \n",
      "3                0      0  STON/O2. 3101282    7.9250          NaN        S  \n",
      "4                1      0            113803   53.1000         C123        S  \n",
      "5                0      0            373450    8.0500          NaN        S  \n",
      "6                0      0            330877    8.4583          NaN        Q  \n",
      "7                0      0             17463   51.8625          E46        S  \n",
      "8                3      1            349909   21.0750          NaN        S  \n",
      "9                0      2            347742   11.1333          NaN        S  \n",
      "10               1      0            237736   30.0708          NaN        C  \n",
      "11               1      1           PP 9549   16.7000           G6        S  \n",
      "12               0      0            113783   26.5500         C103        S  \n",
      "13               0      0         A/5. 2151    8.0500          NaN        S  \n",
      "14               1      5            347082   31.2750          NaN        S  \n",
      "15               0      0            350406    7.8542          NaN        S  \n",
      "16               0      0            248706   16.0000          NaN        S  \n",
      "17               4      1            382652   29.1250          NaN        Q  \n",
      "18               0      0            244373   13.0000          NaN        S  \n",
      "19               1      0            345763   18.0000          NaN        S  \n",
      "20               0      0              2649    7.2250          NaN        C  \n",
      "21               0      0            239865   26.0000          NaN        S  \n",
      "22               0      0            248698   13.0000          D56        S  \n",
      "23               0      0            330923    8.0292          NaN        Q  \n",
      "24               0      0            113788   35.5000           A6        S  \n",
      "25               3      1            349909   21.0750          NaN        S  \n",
      "26               1      5            347077   31.3875          NaN        S  \n",
      "27               0      0              2631    7.2250          NaN        C  \n",
      "28               3      2             19950  263.0000  C23 C25 C27        S  \n",
      "29               0      0            330959    7.8792          NaN        Q  \n",
      "30               0      0            349216    7.8958          NaN        S  \n",
      "...            ...    ...               ...       ...          ...      ...  \n",
      "862              1      0             28134   11.5000          NaN        S  \n",
      "863              0      0             17466   25.9292          D17        S  \n",
      "864              8      2          CA. 2343   69.5500          NaN        S  \n",
      "865              0      0            233866   13.0000          NaN        S  \n",
      "866              0      0            236852   13.0000          NaN        S  \n",
      "867              1      0     SC/PARIS 2149   13.8583          NaN        C  \n",
      "868              0      0          PC 17590   50.4958          A24        S  \n",
      "869              0      0            345777    9.5000          NaN        S  \n",
      "870              1      1            347742   11.1333          NaN        S  \n",
      "871              0      0            349248    7.8958          NaN        S  \n",
      "872              1      1             11751   52.5542          D35        S  \n",
      "873              0      0               695    5.0000  B51 B53 B55        S  \n",
      "874              0      0            345765    9.0000          NaN        S  \n",
      "875              1      0         P/PP 3381   24.0000          NaN        C  \n",
      "876              0      0              2667    7.2250          NaN        C  \n",
      "877              0      0              7534    9.8458          NaN        S  \n",
      "878              0      0            349212    7.8958          NaN        S  \n",
      "879              0      0            349217    7.8958          NaN        S  \n",
      "880              0      1             11767   83.1583          C50        C  \n",
      "881              0      1            230433   26.0000          NaN        S  \n",
      "882              0      0            349257    7.8958          NaN        S  \n",
      "883              0      0              7552   10.5167          NaN        S  \n",
      "884              0      0  C.A./SOTON 34068   10.5000          NaN        S  \n",
      "885              0      0   SOTON/OQ 392076    7.0500          NaN        S  \n",
      "886              0      5            382652   29.1250          NaN        Q  \n",
      "887              0      0            211536   13.0000          NaN        S  \n",
      "888              0      0            112053   30.0000          B42        S  \n",
      "889              1      2        W./C. 6607   23.4500          NaN        S  \n",
      "890              0      0            111369   30.0000         C148        C  \n",
      "891              0      0            370376    7.7500          NaN        Q  \n",
      "\n",
      "[891 rows x 11 columns]\n"
     ]
    }
   ],
   "source": [
    "import pandas\n",
    "data = pandas.read_csv('titanic.csv', index_col='PassengerId')\n",
    "print(data)"
   ]
  },
  {
   "cell_type": "code",
   "execution_count": 2,
   "metadata": {},
   "outputs": [
    {
     "name": "stdout",
     "output_type": "stream",
     "text": [
      "577 314\n"
     ]
    }
   ],
   "source": [
    "male_count = data['Sex'].value_counts()['male']\n",
    "female_count = data['Sex'].value_counts()['female']\n",
    "print(male_count, female_count)"
   ]
  },
  {
   "cell_type": "code",
   "execution_count": 3,
   "metadata": {},
   "outputs": [
    {
     "name": "stdout",
     "output_type": "stream",
     "text": [
      "38.38\n"
     ]
    }
   ],
   "source": [
    "percentage_alive = data[\n",
    "        (data['Survived'] == 1)\n",
    "    ].count()['Survived'] / data['Survived'].count() * 100\n",
    "print(round(percentage_alive, 2))"
   ]
  },
  {
   "cell_type": "code",
   "execution_count": 4,
   "metadata": {},
   "outputs": [
    {
     "name": "stdout",
     "output_type": "stream",
     "text": [
      "24.24\n"
     ]
    }
   ],
   "source": [
    "percentage_first_class = data[\n",
    "    (data['Pclass'] == 1)\n",
    "]['Pclass'].count() / data['Pclass'].count() * 100\n",
    "print(round(percentage_first_class, 2))\n"
   ]
  },
  {
   "cell_type": "code",
   "execution_count": 5,
   "metadata": {},
   "outputs": [
    {
     "name": "stdout",
     "output_type": "stream",
     "text": [
      "29.7 28.0\n"
     ]
    }
   ],
   "source": [
    "age_mean = data.mean(axis=0)['Age']\n",
    "age_median = data.median(axis=0)['Age']\n",
    "print(round(age_mean, 2), age_median)"
   ]
  },
  {
   "cell_type": "code",
   "execution_count": 6,
   "metadata": {},
   "outputs": [
    {
     "name": "stdout",
     "output_type": "stream",
     "text": [
      "0.41\n"
     ]
    }
   ],
   "source": [
    "correlation = data.corr(method='pearson')\n",
    "print(round(correlation['SibSp']['Parch'], 2))"
   ]
  },
  {
   "cell_type": "code",
   "execution_count": 1,
   "metadata": {},
   "outputs": [
    {
     "ename": "NameError",
     "evalue": "name 'data' is not defined",
     "output_type": "error",
     "traceback": [
      "\u001b[0;31m---------------------------------------------------------------------------\u001b[0m",
      "\u001b[0;31mNameError\u001b[0m                                 Traceback (most recent call last)",
      "\u001b[0;32m<ipython-input-1-f784d65ae44e>\u001b[0m in \u001b[0;36m<module>\u001b[0;34m()\u001b[0m\n\u001b[1;32m      1\u001b[0m \u001b[0;32mimport\u001b[0m \u001b[0mre\u001b[0m\u001b[0;34m\u001b[0m\u001b[0m\n\u001b[1;32m      2\u001b[0m \u001b[0mnms\u001b[0m \u001b[0;34m=\u001b[0m \u001b[0;34m[\u001b[0m\u001b[0;34m]\u001b[0m\u001b[0;34m\u001b[0m\u001b[0m\n\u001b[0;32m----> 3\u001b[0;31m \u001b[0;32mfor\u001b[0m \u001b[0mkey\u001b[0m\u001b[0;34m,\u001b[0m \u001b[0mname\u001b[0m \u001b[0;32min\u001b[0m \u001b[0mdata\u001b[0m\u001b[0;34m[\u001b[0m\u001b[0;34m(\u001b[0m\u001b[0mdata\u001b[0m\u001b[0;34m[\u001b[0m\u001b[0;34m'Sex'\u001b[0m\u001b[0;34m]\u001b[0m \u001b[0;34m==\u001b[0m \u001b[0;34m'female'\u001b[0m\u001b[0;34m)\u001b[0m\u001b[0;34m]\u001b[0m\u001b[0;34m[\u001b[0m\u001b[0;34m'Name'\u001b[0m\u001b[0;34m]\u001b[0m\u001b[0;34m.\u001b[0m\u001b[0miteritems\u001b[0m\u001b[0;34m(\u001b[0m\u001b[0;34m)\u001b[0m\u001b[0;34m:\u001b[0m\u001b[0;34m\u001b[0m\u001b[0m\n\u001b[0m\u001b[1;32m      4\u001b[0m     \u001b[0mnm\u001b[0m \u001b[0;34m=\u001b[0m \u001b[0mre\u001b[0m\u001b[0;34m.\u001b[0m\u001b[0msplit\u001b[0m\u001b[0;34m(\u001b[0m\u001b[0;34mr'\\.'\u001b[0m\u001b[0;34m,\u001b[0m \u001b[0mname\u001b[0m\u001b[0;34m)\u001b[0m\u001b[0;34m[\u001b[0m\u001b[0;34m-\u001b[0m\u001b[0;36m1\u001b[0m\u001b[0;34m]\u001b[0m\u001b[0;34m\u001b[0m\u001b[0m\n\u001b[1;32m      5\u001b[0m     \u001b[0;32mif\u001b[0m \u001b[0;34m'('\u001b[0m \u001b[0;32min\u001b[0m \u001b[0mnm\u001b[0m\u001b[0;34m:\u001b[0m\u001b[0;34m\u001b[0m\u001b[0m\n",
      "\u001b[0;31mNameError\u001b[0m: name 'data' is not defined"
     ]
    }
   ],
   "source": [
    "import re\n",
    "nms = []\n",
    "for key, name in data[(data['Sex'] == 'female')]['Name'].iteritems():\n",
    "    nm = re.split(r'\\.', name)[-1]\n",
    "    if '(' in nm:\n",
    "        nm = re.split(r'\\(', nm)[1]\n",
    "#     print(nm)\n",
    "    nm = nm.strip(\"()\\\"\")\n",
    "#     print(nm)\n",
    "    if (nm.split()[0] == 'Mrs'):\n",
    "        nm = nm.split()[1]\n",
    "    else:\n",
    "        nm = nm.split()[0]\n",
    "    nms.append(nm)\n",
    "name = {'name' : nms}\n",
    "data_name = pandas.DataFrame(data = name)\n",
    "print(data_name['name'].value_counts())\n",
    "print(data_name.count())\n"
   ]
  },
  {
   "cell_type": "code",
   "execution_count": null,
   "metadata": {},
   "outputs": [],
   "source": []
  },
  {
   "cell_type": "code",
   "execution_count": null,
   "metadata": {},
   "outputs": [],
   "source": []
  },
  {
   "cell_type": "code",
   "execution_count": null,
   "metadata": {},
   "outputs": [],
   "source": []
  }
 ],
 "metadata": {
  "kernelspec": {
   "display_name": "Python 3",
   "language": "python",
   "name": "python3"
  },
  "language_info": {
   "codemirror_mode": {
    "name": "ipython",
    "version": 3
   },
   "file_extension": ".py",
   "mimetype": "text/x-python",
   "name": "python",
   "nbconvert_exporter": "python",
   "pygments_lexer": "ipython3",
   "version": "3.6.3"
  }
 },
 "nbformat": 4,
 "nbformat_minor": 2
}
